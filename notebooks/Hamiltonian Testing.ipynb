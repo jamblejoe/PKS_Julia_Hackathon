{
 "cells": [
  {
   "cell_type": "markdown",
   "id": "ff2f5315",
   "metadata": {},
   "source": [
    "# Hamiltonian"
   ]
  },
  {
   "cell_type": "code",
   "execution_count": null,
   "id": "86567f72",
   "metadata": {},
   "outputs": [],
   "source": [
    "#Laod current hamiltonian file\n",
    "using LinearAlgebra, Plots\n",
    "include(\"../src/hamiltonian.jl\")"
   ]
  },
  {
   "cell_type": "code",
   "execution_count": null,
   "id": "3280fa0e",
   "metadata": {},
   "outputs": [],
   "source": [
    "L   = 100 # number of sites\n",
    "σ   = 0   # disorder\n",
    "t   = 0.5 # hopping\n",
    "E   = 2   # on-site energy\n",
    "ham = simple_hamiltonian(L, t, σ, E);\n"
   ]
  },
  {
   "cell_type": "code",
   "execution_count": null,
   "id": "2547dd28",
   "metadata": {},
   "outputs": [],
   "source": [
    "#Spectrum\n",
    "evals_list, evecs_list = eigen(ham);\n",
    "\n",
    "evals_list[1:10]"
   ]
  },
  {
   "cell_type": "code",
   "execution_count": null,
   "id": "46f6590f",
   "metadata": {},
   "outputs": [],
   "source": [
    "# Look at eigenvector\n",
    "plot_inst = plot(1:L, abs.(evecs_list[:,8]).^4 )\n",
    "\n",
    "\n",
    "for i in 2:3    \n",
    "   plot!(1:L, abs.(evecs_list[:,i]) ) \n",
    "end \n",
    "\n",
    "plot_inst"
   ]
  },
  {
   "cell_type": "code",
   "execution_count": null,
   "id": "b97caa19",
   "metadata": {},
   "outputs": [],
   "source": []
  }
 ],
 "metadata": {
  "kernelspec": {
   "display_name": "Julia 1.7.2",
   "language": "julia",
   "name": "julia-1.7"
  },
  "language_info": {
   "file_extension": ".jl",
   "mimetype": "application/julia",
   "name": "julia",
   "version": "1.7.2"
  }
 },
 "nbformat": 4,
 "nbformat_minor": 5
}
