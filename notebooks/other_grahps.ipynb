{
 "cells": [
  {
   "cell_type": "code",
   "execution_count": 1,
   "metadata": {},
   "outputs": [
    {
     "data": {
      "text/plain": [
       "hamiltonian_from_graph (generic function with 4 methods)"
      ]
     },
     "metadata": {},
     "output_type": "display_data"
    }
   ],
   "source": [
    "#Laod current hamiltonian file\n",
    "using LinearAlgebra, Plots, Graphs, ProgressBars, Base.Threads, Statistics\n",
    "include(\"../src/graphs.jl\")\n",
    "include(\"../src/observables.jl\")"
   ]
  },
  {
   "cell_type": "code",
   "execution_count": 2,
   "metadata": {},
   "outputs": [
    {
     "data": {
      "text/plain": [
       "10"
      ]
     },
     "metadata": {},
     "output_type": "display_data"
    }
   ],
   "source": [
    "# parameters\n",
    "SIZE_LIST = [50, 100, 200] # number of sites\n",
    "DISORDER_LIST = 10 .^ LinRange(-2, 2, 26) \n",
    "NUM_SAMPLES = 10\n"
   ]
  },
  {
   "cell_type": "code",
   "execution_count": 3,
   "metadata": {},
   "outputs": [
    {
     "ename": "TaskFailedException",
     "evalue": "TaskFailedException\n\n    nested task error: UndefVarError: inverse_participation_ratio not defined\n    Stacktrace:\n     [1] macro expansion\n       @ ~/Dropbox/progra/julia/PKS_Julia_Hackathon/notebooks/other_grahps.ipynb:14 [inlined]\n     [2] (::var\"#66#threadsfor_fun#9\"{SimpleGraph{Int64}, Float64, Vector{Float64}, UnitRange{Int64}})(onethread::Bool)\n       @ Main ./threadingconstructs.jl:85\n     [3] (::var\"#66#threadsfor_fun#9\"{SimpleGraph{Int64}, Float64, Vector{Float64}, UnitRange{Int64}})()\n       @ Main ./threadingconstructs.jl:52",
     "output_type": "error",
     "traceback": [
      "TaskFailedException\n",
      "\n",
      "    nested task error: UndefVarError: inverse_participation_ratio not defined\n",
      "    Stacktrace:\n",
      "     [1] macro expansion\n",
      "       @ ~/Dropbox/progra/julia/PKS_Julia_Hackathon/notebooks/other_grahps.ipynb:14 [inlined]\n",
      "     [2] (::var\"#66#threadsfor_fun#9\"{SimpleGraph{Int64}, Float64, Vector{Float64}, UnitRange{Int64}})(onethread::Bool)\n",
      "       @ Main ./threadingconstructs.jl:85\n",
      "     [3] (::var\"#66#threadsfor_fun#9\"{SimpleGraph{Int64}, Float64, Vector{Float64}, UnitRange{Int64}})()\n",
      "       @ Main ./threadingconstructs.jl:52\n",
      "\n",
      "Stacktrace:\n",
      "  [1] wait\n",
      "    @ ./task.jl:334 [inlined]\n",
      "  [2] threading_run(func::Function)\n",
      "    @ Base.Threads ./threadingconstructs.jl:38\n",
      "  [3] macro expansion\n",
      "    @ ./threadingconstructs.jl:97 [inlined]\n",
      "  [4] compute_ipr_per_size_and_disorder(sizes::Vector{Int64}, disorders::Vector{Float64}, num_samples::Int64)\n",
      "    @ Main ~/Dropbox/progra/julia/PKS_Julia_Hackathon/notebooks/other_grahps.ipynb:11\n",
      "  [5] top-level scope\n",
      "    @ ~/Dropbox/progra/julia/PKS_Julia_Hackathon/notebooks/other_grahps.ipynb:23\n",
      "  [6] eval\n",
      "    @ ./boot.jl:373 [inlined]\n",
      "  [7] include_string(mapexpr::typeof(REPL.softscope), mod::Module, code::String, filename::String)\n",
      "    @ Base ./loading.jl:1196\n",
      "  [8] #invokelatest#2\n",
      "    @ ./essentials.jl:716 [inlined]\n",
      "  [9] invokelatest\n",
      "    @ ./essentials.jl:714 [inlined]\n",
      " [10] (::VSCodeServer.var\"#164#165\"{VSCodeServer.NotebookRunCellArguments, String})()\n",
      "    @ VSCodeServer ~/.vscode/extensions/julialang.language-julia-1.6.17/scripts/packages/VSCodeServer/src/serve_notebook.jl:19\n",
      " [11] withpath(f::VSCodeServer.var\"#164#165\"{VSCodeServer.NotebookRunCellArguments, String}, path::String)\n",
      "    @ VSCodeServer ~/.vscode/extensions/julialang.language-julia-1.6.17/scripts/packages/VSCodeServer/src/repl.jl:184\n",
      " [12] notebook_runcell_request(conn::VSCodeServer.JSONRPC.JSONRPCEndpoint{Base.PipeEndpoint, Base.PipeEndpoint}, params::VSCodeServer.NotebookRunCellArguments)\n",
      "    @ VSCodeServer ~/.vscode/extensions/julialang.language-julia-1.6.17/scripts/packages/VSCodeServer/src/serve_notebook.jl:13\n",
      " [13] dispatch_msg(x::VSCodeServer.JSONRPC.JSONRPCEndpoint{Base.PipeEndpoint, Base.PipeEndpoint}, dispatcher::VSCodeServer.JSONRPC.MsgDispatcher, msg::Dict{String, Any})\n",
      "    @ VSCodeServer.JSONRPC ~/.vscode/extensions/julialang.language-julia-1.6.17/scripts/packages/JSONRPC/src/typed.jl:67\n",
      " [14] serve_notebook(pipename::String, outputchannel_logger::Base.CoreLogging.SimpleLogger; crashreporting_pipename::String)\n",
      "    @ VSCodeServer ~/.vscode/extensions/julialang.language-julia-1.6.17/scripts/packages/VSCodeServer/src/serve_notebook.jl:136\n",
      " [15] top-level scope\n",
      "    @ ~/.vscode/extensions/julialang.language-julia-1.6.17/scripts/notebook/notebook.jl:32\n",
      " [16] include(mod::Module, _path::String)\n",
      "    @ Base ./Base.jl:418\n",
      " [17] exec_options(opts::Base.JLOptions)\n",
      "    @ Base ./client.jl:292\n",
      " [18] _start()\n",
      "    @ Base ./client.jl:495"
     ]
    }
   ],
   "source": [
    "function compute_ipr_per_size_and_disorder(sizes, disorders, num_samples)\n",
    "    # get localization of the ground state as a function of disorder\n",
    "    iprs = zeros(length(sizes), length(disorders))\n",
    "    iprs_std = zeros(length(sizes), length(disorders))\n",
    "    for (size_idx, L) in enumerate(sizes)\n",
    "        graph = chain_graph(L)\n",
    "    \n",
    "        for (disorder_idx, disorder) in enumerate(disorders)\n",
    "\n",
    "            ipr_sample_arr = zeros(num_samples)\n",
    "            Threads.@threads for n in 1:num_samples\n",
    "                chain_hamiltonian = hamiltonian_from_graph(graph, disorder * rand(nv(graph)), 1.0) \n",
    "                eigval_vec, eigvec_mat  = eigen(chain_hamiltonian)\n",
    "                ipr_sample_arr[n] = inverse_participation_ratio(eigvec_mat[:, 1])\n",
    "            end\n",
    "            iprs[size_idx, disorder_idx] = mean(ipr_sample_arr)\n",
    "            iprs_std[size_idx, disorder_idx] = stdm(ipr_sample_arr, iprs[size_idx, disorder_idx])\n",
    "        end\n",
    "    end\n",
    "    return iprs, iprs_std\n",
    "end\n",
    "\n",
    "iprs_arr, iprs_std_arr = compute_ipr_per_size_and_disorder(SIZE_LIST, DISORDER_LIST, NUM_SAMPLES)\n"
   ]
  },
  {
   "cell_type": "code",
   "execution_count": 4,
   "metadata": {},
   "outputs": [
    {
     "ename": "UndefVarError",
     "evalue": "UndefVarError: iprs_arr not defined",
     "output_type": "error",
     "traceback": [
      "UndefVarError: iprs_arr not defined\n",
      "\n",
      "Stacktrace:\n",
      "  [1] top-level scope\n",
      "    @ ~/Dropbox/progra/julia/PKS_Julia_Hackathon/notebooks/other_grahps.ipynb:11\n",
      "  [2] eval\n",
      "    @ ./boot.jl:373 [inlined]\n",
      "  [3] include_string(mapexpr::typeof(REPL.softscope), mod::Module, code::String, filename::String)\n",
      "    @ Base ./loading.jl:1196\n",
      "  [4] #invokelatest#2\n",
      "    @ ./essentials.jl:716 [inlined]\n",
      "  [5] invokelatest\n",
      "    @ ./essentials.jl:714 [inlined]\n",
      "  [6] (::VSCodeServer.var\"#164#165\"{VSCodeServer.NotebookRunCellArguments, String})()\n",
      "    @ VSCodeServer ~/.vscode/extensions/julialang.language-julia-1.6.17/scripts/packages/VSCodeServer/src/serve_notebook.jl:19\n",
      "  [7] withpath(f::VSCodeServer.var\"#164#165\"{VSCodeServer.NotebookRunCellArguments, String}, path::String)\n",
      "    @ VSCodeServer ~/.vscode/extensions/julialang.language-julia-1.6.17/scripts/packages/VSCodeServer/src/repl.jl:184\n",
      "  [8] notebook_runcell_request(conn::VSCodeServer.JSONRPC.JSONRPCEndpoint{Base.PipeEndpoint, Base.PipeEndpoint}, params::VSCodeServer.NotebookRunCellArguments)\n",
      "    @ VSCodeServer ~/.vscode/extensions/julialang.language-julia-1.6.17/scripts/packages/VSCodeServer/src/serve_notebook.jl:13\n",
      "  [9] dispatch_msg(x::VSCodeServer.JSONRPC.JSONRPCEndpoint{Base.PipeEndpoint, Base.PipeEndpoint}, dispatcher::VSCodeServer.JSONRPC.MsgDispatcher, msg::Dict{String, Any})\n",
      "    @ VSCodeServer.JSONRPC ~/.vscode/extensions/julialang.language-julia-1.6.17/scripts/packages/JSONRPC/src/typed.jl:67\n",
      " [10] serve_notebook(pipename::String, outputchannel_logger::Base.CoreLogging.SimpleLogger; crashreporting_pipename::String)\n",
      "    @ VSCodeServer ~/.vscode/extensions/julialang.language-julia-1.6.17/scripts/packages/VSCodeServer/src/serve_notebook.jl:136\n",
      " [11] top-level scope\n",
      "    @ ~/.vscode/extensions/julialang.language-julia-1.6.17/scripts/notebook/notebook.jl:32\n",
      " [12] include(mod::Module, _path::String)\n",
      "    @ Base ./Base.jl:418\n",
      " [13] exec_options(opts::Base.JLOptions)\n",
      "    @ Base ./client.jl:292\n",
      " [14] _start()\n",
      "    @ Base ./client.jl:495"
     ]
    }
   ],
   "source": [
    "# Look at iprs as function of disorder\n",
    "plot_inst = scatter(\n",
    "        # xaxis = :log,\n",
    "        scale = :log,\n",
    "        xlabel = \"Disorder Strength\",\n",
    "        ylabel = \"Ground State IPR\",\n",
    "        legend = :topleft,\n",
    "        legendtitle = \"L\"\n",
    ")\n",
    "\n",
    "for (L, ipr, ipr_std) in zip(SIZE_LIST, eachrow(iprs_arr), eachrow(iprs_std_arr))\n",
    "    scatter!(DISORDER_LIST, ipr, yerror=ipr_std, label = L)\n",
    "end\n",
    "\n",
    "plot_inst"
   ]
  }
 ],
 "metadata": {
  "kernelspec": {
   "display_name": "Julia 1.7.2",
   "language": "julia",
   "name": "julia-1.7"
  },
  "language_info": {
   "file_extension": ".jl",
   "mimetype": "application/julia",
   "name": "julia",
   "version": "1.7.2"
  },
  "orig_nbformat": 4
 },
 "nbformat": 4,
 "nbformat_minor": 2
}
